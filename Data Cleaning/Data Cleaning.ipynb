{
 "cells": [
  {
   "cell_type": "code",
   "execution_count": 1,
   "id": "bda674de",
   "metadata": {},
   "outputs": [],
   "source": [
    "#imports\n",
    "\n",
    "import pandas as pd\n",
    "import matplotlib.pyplot as plt\n",
    "import seaborn as sns\n",
    "import os\n",
    "\n",
    "#regex\n",
    "import re"
   ]
  },
  {
   "cell_type": "code",
   "execution_count": 3,
   "id": "55912195",
   "metadata": {},
   "outputs": [],
   "source": [
    "cwd = os.getcwd()\n",
    "\n",
    "df = pd.read_csv(cwd+\"/BA_reviews.csv\", index_col=0)"
   ]
  },
  {
   "cell_type": "code",
   "execution_count": 4,
   "id": "cb51e350",
   "metadata": {},
   "outputs": [
    {
     "data": {
      "text/html": [
       "<div>\n",
       "<style scoped>\n",
       "    .dataframe tbody tr th:only-of-type {\n",
       "        vertical-align: middle;\n",
       "    }\n",
       "\n",
       "    .dataframe tbody tr th {\n",
       "        vertical-align: top;\n",
       "    }\n",
       "\n",
       "    .dataframe thead th {\n",
       "        text-align: right;\n",
       "    }\n",
       "</style>\n",
       "<table border=\"1\" class=\"dataframe\">\n",
       "  <thead>\n",
       "    <tr style=\"text-align: right;\">\n",
       "      <th></th>\n",
       "      <th>reviews</th>\n",
       "      <th>stars</th>\n",
       "      <th>date</th>\n",
       "      <th>country</th>\n",
       "    </tr>\n",
       "  </thead>\n",
       "  <tbody>\n",
       "    <tr>\n",
       "      <th>0</th>\n",
       "      <td>✅ Trip Verified | If you can’t fly First Class...</td>\n",
       "      <td>\\n\\t\\t\\t\\t\\t\\t\\t\\t\\t\\t\\t\\t\\t5</td>\n",
       "      <td>19th July 2024</td>\n",
       "      <td>United States</td>\n",
       "    </tr>\n",
       "    <tr>\n",
       "      <th>1</th>\n",
       "      <td>Not Verified |   Singapore to Heathrow. Busine...</td>\n",
       "      <td>1</td>\n",
       "      <td>16th July 2024</td>\n",
       "      <td>New Zealand</td>\n",
       "    </tr>\n",
       "    <tr>\n",
       "      <th>2</th>\n",
       "      <td>Not Verified |   I reported my damaged/ruined ...</td>\n",
       "      <td>1</td>\n",
       "      <td>15th July 2024</td>\n",
       "      <td>United Kingdom</td>\n",
       "    </tr>\n",
       "    <tr>\n",
       "      <th>3</th>\n",
       "      <td>Not Verified |   On March 1st, I flew from Ber...</td>\n",
       "      <td>1</td>\n",
       "      <td>9th July 2024</td>\n",
       "      <td>Germany</td>\n",
       "    </tr>\n",
       "    <tr>\n",
       "      <th>4</th>\n",
       "      <td>Not Verified | The WORST customer experience! ...</td>\n",
       "      <td>1</td>\n",
       "      <td>5th July 2024</td>\n",
       "      <td>United Kingdom</td>\n",
       "    </tr>\n",
       "  </tbody>\n",
       "</table>\n",
       "</div>"
      ],
      "text/plain": [
       "                                             reviews  \\\n",
       "0  ✅ Trip Verified | If you can’t fly First Class...   \n",
       "1  Not Verified |   Singapore to Heathrow. Busine...   \n",
       "2  Not Verified |   I reported my damaged/ruined ...   \n",
       "3  Not Verified |   On March 1st, I flew from Ber...   \n",
       "4  Not Verified | The WORST customer experience! ...   \n",
       "\n",
       "                           stars            date         country  \n",
       "0  \\n\\t\\t\\t\\t\\t\\t\\t\\t\\t\\t\\t\\t\\t5  19th July 2024   United States  \n",
       "1                              1  16th July 2024     New Zealand  \n",
       "2                              1  15th July 2024  United Kingdom  \n",
       "3                              1   9th July 2024         Germany  \n",
       "4                              1   5th July 2024  United Kingdom  "
      ]
     },
     "execution_count": 4,
     "metadata": {},
     "output_type": "execute_result"
    }
   ],
   "source": [
    "df.head()"
   ]
  },
  {
   "cell_type": "code",
   "execution_count": 5,
   "id": "130d143c",
   "metadata": {},
   "outputs": [],
   "source": [
    "df['verified'] = df.reviews.str.contains(\"Trip Verified\")"
   ]
  },
  {
   "cell_type": "code",
   "execution_count": 6,
   "id": "af3c99cf",
   "metadata": {},
   "outputs": [
    {
     "data": {
      "text/plain": [
       "0        True\n",
       "1       False\n",
       "2       False\n",
       "3       False\n",
       "4       False\n",
       "        ...  \n",
       "3695    False\n",
       "3696    False\n",
       "3697    False\n",
       "3698    False\n",
       "3699    False\n",
       "Name: verified, Length: 3700, dtype: bool"
      ]
     },
     "execution_count": 6,
     "metadata": {},
     "output_type": "execute_result"
    }
   ],
   "source": [
    "df['verified']"
   ]
  },
  {
   "cell_type": "code",
   "execution_count": 10,
   "id": "4c2f533b",
   "metadata": {},
   "outputs": [
    {
     "name": "stderr",
     "output_type": "stream",
     "text": [
      "[nltk_data] Downloading package stopwords to\n",
      "[nltk_data]     /Users/karthikdoguparthi/nltk_data...\n",
      "[nltk_data]   Package stopwords is already up-to-date!\n",
      "[nltk_data] Downloading package wordnet to\n",
      "[nltk_data]     /Users/karthikdoguparthi/nltk_data...\n"
     ]
    },
    {
     "data": {
      "text/plain": [
       "True"
      ]
     },
     "execution_count": 10,
     "metadata": {},
     "output_type": "execute_result"
    }
   ],
   "source": [
    "import nltk\n",
    "nltk.download('stopwords')\n",
    "nltk.download('wordnet')"
   ]
  },
  {
   "cell_type": "code",
   "execution_count": null,
   "id": "f06ed9f0",
   "metadata": {},
   "outputs": [],
   "source": []
  },
  {
   "cell_type": "code",
   "execution_count": null,
   "id": "b9c77a09",
   "metadata": {},
   "outputs": [],
   "source": []
  },
  {
   "cell_type": "code",
   "execution_count": 11,
   "id": "ce1c896f",
   "metadata": {},
   "outputs": [],
   "source": [
    "from nltk.stem import WordNetLemmatizer\n",
    "from nltk.corpus import stopwords\n",
    "lemma = WordNetLemmatizer()\n",
    "\n",
    "\n",
    "reviews_data = df.reviews.str.strip(\"✅ Trip Verified |\")\n",
    "\n",
    "#create an empty list to collect cleaned data corpus\n",
    "corpus =[]\n",
    "\n",
    "#loop through each review, remove punctuations, small case it, join it and add it to corpus\n",
    "for rev in reviews_data:\n",
    "    rev = re.sub('[^a-zA-Z]',' ', rev)\n",
    "    rev = rev.lower()\n",
    "    rev = rev.split()\n",
    "    rev = [lemma.lemmatize(word) for word in rev if word not in set(stopwords.words(\"english\"))]\n",
    "    rev = \" \".join(rev)\n",
    "    corpus.append(rev)"
   ]
  },
  {
   "cell_type": "code",
   "execution_count": 12,
   "id": "20f83528",
   "metadata": {},
   "outputs": [],
   "source": [
    "df['corpus'] = corpus"
   ]
  },
  {
   "cell_type": "code",
   "execution_count": 13,
   "id": "02ef961c",
   "metadata": {},
   "outputs": [
    {
     "data": {
      "text/html": [
       "<div>\n",
       "<style scoped>\n",
       "    .dataframe tbody tr th:only-of-type {\n",
       "        vertical-align: middle;\n",
       "    }\n",
       "\n",
       "    .dataframe tbody tr th {\n",
       "        vertical-align: top;\n",
       "    }\n",
       "\n",
       "    .dataframe thead th {\n",
       "        text-align: right;\n",
       "    }\n",
       "</style>\n",
       "<table border=\"1\" class=\"dataframe\">\n",
       "  <thead>\n",
       "    <tr style=\"text-align: right;\">\n",
       "      <th></th>\n",
       "      <th>reviews</th>\n",
       "      <th>stars</th>\n",
       "      <th>date</th>\n",
       "      <th>country</th>\n",
       "      <th>verified</th>\n",
       "      <th>corpus</th>\n",
       "    </tr>\n",
       "  </thead>\n",
       "  <tbody>\n",
       "    <tr>\n",
       "      <th>0</th>\n",
       "      <td>✅ Trip Verified | If you can’t fly First Class...</td>\n",
       "      <td>\\n\\t\\t\\t\\t\\t\\t\\t\\t\\t\\t\\t\\t\\t5</td>\n",
       "      <td>19th July 2024</td>\n",
       "      <td>United States</td>\n",
       "      <td>True</td>\n",
       "      <td>fly first class fly british airway uncomfortab...</td>\n",
       "    </tr>\n",
       "    <tr>\n",
       "      <th>1</th>\n",
       "      <td>Not Verified |   Singapore to Heathrow. Busine...</td>\n",
       "      <td>1</td>\n",
       "      <td>16th July 2024</td>\n",
       "      <td>New Zealand</td>\n",
       "      <td>False</td>\n",
       "      <td>verified singapore heathrow business class pre...</td>\n",
       "    </tr>\n",
       "    <tr>\n",
       "      <th>2</th>\n",
       "      <td>Not Verified |   I reported my damaged/ruined ...</td>\n",
       "      <td>1</td>\n",
       "      <td>15th July 2024</td>\n",
       "      <td>United Kingdom</td>\n",
       "      <td>False</td>\n",
       "      <td>verified reported damaged ruined suitcase week...</td>\n",
       "    </tr>\n",
       "    <tr>\n",
       "      <th>3</th>\n",
       "      <td>Not Verified |   On March 1st, I flew from Ber...</td>\n",
       "      <td>1</td>\n",
       "      <td>9th July 2024</td>\n",
       "      <td>Germany</td>\n",
       "      <td>False</td>\n",
       "      <td>verified march st flew berlin paulo ba encount...</td>\n",
       "    </tr>\n",
       "    <tr>\n",
       "      <th>4</th>\n",
       "      <td>Not Verified | The WORST customer experience! ...</td>\n",
       "      <td>1</td>\n",
       "      <td>5th July 2024</td>\n",
       "      <td>United Kingdom</td>\n",
       "      <td>False</td>\n",
       "      <td>verified worst customer experience british air...</td>\n",
       "    </tr>\n",
       "  </tbody>\n",
       "</table>\n",
       "</div>"
      ],
      "text/plain": [
       "                                             reviews  \\\n",
       "0  ✅ Trip Verified | If you can’t fly First Class...   \n",
       "1  Not Verified |   Singapore to Heathrow. Busine...   \n",
       "2  Not Verified |   I reported my damaged/ruined ...   \n",
       "3  Not Verified |   On March 1st, I flew from Ber...   \n",
       "4  Not Verified | The WORST customer experience! ...   \n",
       "\n",
       "                           stars            date         country  verified  \\\n",
       "0  \\n\\t\\t\\t\\t\\t\\t\\t\\t\\t\\t\\t\\t\\t5  19th July 2024   United States      True   \n",
       "1                              1  16th July 2024     New Zealand     False   \n",
       "2                              1  15th July 2024  United Kingdom     False   \n",
       "3                              1   9th July 2024         Germany     False   \n",
       "4                              1   5th July 2024  United Kingdom     False   \n",
       "\n",
       "                                              corpus  \n",
       "0  fly first class fly british airway uncomfortab...  \n",
       "1  verified singapore heathrow business class pre...  \n",
       "2  verified reported damaged ruined suitcase week...  \n",
       "3  verified march st flew berlin paulo ba encount...  \n",
       "4  verified worst customer experience british air...  "
      ]
     },
     "execution_count": 13,
     "metadata": {},
     "output_type": "execute_result"
    }
   ],
   "source": [
    "df.head()"
   ]
  },
  {
   "cell_type": "code",
   "execution_count": 14,
   "id": "11c561ea",
   "metadata": {},
   "outputs": [
    {
     "data": {
      "text/plain": [
       "reviews     object\n",
       "stars       object\n",
       "date        object\n",
       "country     object\n",
       "verified      bool\n",
       "corpus      object\n",
       "dtype: object"
      ]
     },
     "execution_count": 14,
     "metadata": {},
     "output_type": "execute_result"
    }
   ],
   "source": [
    "df.dtypes"
   ]
  },
  {
   "cell_type": "code",
   "execution_count": 15,
   "id": "b9732124",
   "metadata": {},
   "outputs": [],
   "source": [
    "df.date = pd.to_datetime(df.date)"
   ]
  },
  {
   "cell_type": "code",
   "execution_count": 16,
   "id": "39d77238",
   "metadata": {},
   "outputs": [
    {
     "data": {
      "text/plain": [
       "0   2024-07-19\n",
       "1   2024-07-16\n",
       "2   2024-07-15\n",
       "3   2024-07-09\n",
       "4   2024-07-05\n",
       "Name: date, dtype: datetime64[ns]"
      ]
     },
     "execution_count": 16,
     "metadata": {},
     "output_type": "execute_result"
    }
   ],
   "source": [
    "df.date.head()"
   ]
  },
  {
   "cell_type": "code",
   "execution_count": 17,
   "id": "a948c1ad",
   "metadata": {},
   "outputs": [
    {
     "data": {
      "text/plain": [
       "array(['\\n\\t\\t\\t\\t\\t\\t\\t\\t\\t\\t\\t\\t\\t5', '1', '6', '3', '5', '9', '2', '8',\n",
       "       '7', '4', '10', 'None'], dtype=object)"
      ]
     },
     "execution_count": 17,
     "metadata": {},
     "output_type": "execute_result"
    }
   ],
   "source": [
    "df.stars.unique()"
   ]
  },
  {
   "cell_type": "code",
   "execution_count": 18,
   "id": "236191ec",
   "metadata": {},
   "outputs": [],
   "source": [
    "df.stars = df.stars.str.strip(\"\\n\\t\\t\\t\\t\\t\\t\\t\\t\\t\\t\\t\\t\\t\")"
   ]
  },
  {
   "cell_type": "code",
   "execution_count": 19,
   "id": "bc85eadf",
   "metadata": {},
   "outputs": [
    {
     "data": {
      "text/plain": [
       "1       892\n",
       "3       421\n",
       "2       420\n",
       "8       365\n",
       "10      307\n",
       "9       302\n",
       "7       297\n",
       "5       259\n",
       "4       248\n",
       "6       186\n",
       "None      3\n",
       "Name: stars, dtype: int64"
      ]
     },
     "execution_count": 19,
     "metadata": {},
     "output_type": "execute_result"
    }
   ],
   "source": [
    "df.stars.value_counts()"
   ]
  },
  {
   "cell_type": "code",
   "execution_count": 20,
   "id": "2f144121",
   "metadata": {},
   "outputs": [],
   "source": [
    "df.drop(df[df.stars == \"None\"].index, axis=0, inplace=True)"
   ]
  },
  {
   "cell_type": "code",
   "execution_count": 21,
   "id": "863da68b",
   "metadata": {},
   "outputs": [
    {
     "data": {
      "text/plain": [
       "array(['5', '1', '6', '3', '9', '2', '8', '7', '4', '10'], dtype=object)"
      ]
     },
     "execution_count": 21,
     "metadata": {},
     "output_type": "execute_result"
    }
   ],
   "source": [
    "df.stars.unique()"
   ]
  },
  {
   "cell_type": "code",
   "execution_count": 22,
   "id": "c2b6da6b",
   "metadata": {},
   "outputs": [
    {
     "data": {
      "text/plain": [
       "reviews  stars  date   country  verified  corpus\n",
       "False    False  False  False    False     False     3695\n",
       "                       True     False     False        2\n",
       "dtype: int64"
      ]
     },
     "execution_count": 22,
     "metadata": {},
     "output_type": "execute_result"
    }
   ],
   "source": [
    "df.isnull().value_counts()"
   ]
  },
  {
   "cell_type": "code",
   "execution_count": 23,
   "id": "71a79b8e",
   "metadata": {},
   "outputs": [
    {
     "data": {
      "text/plain": [
       "False    3695\n",
       "True        2\n",
       "Name: country, dtype: int64"
      ]
     },
     "execution_count": 23,
     "metadata": {},
     "output_type": "execute_result"
    }
   ],
   "source": [
    "df.country.isnull().value_counts()"
   ]
  },
  {
   "cell_type": "code",
   "execution_count": 24,
   "id": "9cef6b05",
   "metadata": {},
   "outputs": [],
   "source": [
    "df.drop(df[df.country.isnull() == True].index, axis=0, inplace=True)"
   ]
  },
  {
   "cell_type": "code",
   "execution_count": 25,
   "id": "81cff19d",
   "metadata": {},
   "outputs": [
    {
     "data": {
      "text/plain": [
       "(3695, 6)"
      ]
     },
     "execution_count": 25,
     "metadata": {},
     "output_type": "execute_result"
    }
   ],
   "source": [
    "df.shape"
   ]
  },
  {
   "cell_type": "code",
   "execution_count": 26,
   "id": "e32de173",
   "metadata": {},
   "outputs": [
    {
     "data": {
      "text/html": [
       "<div>\n",
       "<style scoped>\n",
       "    .dataframe tbody tr th:only-of-type {\n",
       "        vertical-align: middle;\n",
       "    }\n",
       "\n",
       "    .dataframe tbody tr th {\n",
       "        vertical-align: top;\n",
       "    }\n",
       "\n",
       "    .dataframe thead th {\n",
       "        text-align: right;\n",
       "    }\n",
       "</style>\n",
       "<table border=\"1\" class=\"dataframe\">\n",
       "  <thead>\n",
       "    <tr style=\"text-align: right;\">\n",
       "      <th></th>\n",
       "      <th>reviews</th>\n",
       "      <th>stars</th>\n",
       "      <th>date</th>\n",
       "      <th>country</th>\n",
       "      <th>verified</th>\n",
       "      <th>corpus</th>\n",
       "    </tr>\n",
       "  </thead>\n",
       "  <tbody>\n",
       "    <tr>\n",
       "      <th>0</th>\n",
       "      <td>✅ Trip Verified | If you can’t fly First Class...</td>\n",
       "      <td>5</td>\n",
       "      <td>2024-07-19</td>\n",
       "      <td>United States</td>\n",
       "      <td>True</td>\n",
       "      <td>fly first class fly british airway uncomfortab...</td>\n",
       "    </tr>\n",
       "    <tr>\n",
       "      <th>1</th>\n",
       "      <td>Not Verified |   Singapore to Heathrow. Busine...</td>\n",
       "      <td>1</td>\n",
       "      <td>2024-07-16</td>\n",
       "      <td>New Zealand</td>\n",
       "      <td>False</td>\n",
       "      <td>verified singapore heathrow business class pre...</td>\n",
       "    </tr>\n",
       "    <tr>\n",
       "      <th>2</th>\n",
       "      <td>Not Verified |   I reported my damaged/ruined ...</td>\n",
       "      <td>1</td>\n",
       "      <td>2024-07-15</td>\n",
       "      <td>United Kingdom</td>\n",
       "      <td>False</td>\n",
       "      <td>verified reported damaged ruined suitcase week...</td>\n",
       "    </tr>\n",
       "    <tr>\n",
       "      <th>3</th>\n",
       "      <td>Not Verified |   On March 1st, I flew from Ber...</td>\n",
       "      <td>1</td>\n",
       "      <td>2024-07-09</td>\n",
       "      <td>Germany</td>\n",
       "      <td>False</td>\n",
       "      <td>verified march st flew berlin paulo ba encount...</td>\n",
       "    </tr>\n",
       "    <tr>\n",
       "      <th>4</th>\n",
       "      <td>Not Verified | The WORST customer experience! ...</td>\n",
       "      <td>1</td>\n",
       "      <td>2024-07-05</td>\n",
       "      <td>United Kingdom</td>\n",
       "      <td>False</td>\n",
       "      <td>verified worst customer experience british air...</td>\n",
       "    </tr>\n",
       "    <tr>\n",
       "      <th>...</th>\n",
       "      <td>...</td>\n",
       "      <td>...</td>\n",
       "      <td>...</td>\n",
       "      <td>...</td>\n",
       "      <td>...</td>\n",
       "      <td>...</td>\n",
       "    </tr>\n",
       "    <tr>\n",
       "      <th>3690</th>\n",
       "      <td>Having taken several domestic flights to Londo...</td>\n",
       "      <td>8</td>\n",
       "      <td>2014-06-25</td>\n",
       "      <td>United Kingdom</td>\n",
       "      <td>False</td>\n",
       "      <td>taken several domestic flight london heathrow ...</td>\n",
       "    </tr>\n",
       "    <tr>\n",
       "      <th>3691</th>\n",
       "      <td>Have flown with BA several times over past few...</td>\n",
       "      <td>10</td>\n",
       "      <td>2014-06-25</td>\n",
       "      <td>United Kingdom</td>\n",
       "      <td>False</td>\n",
       "      <td>flown ba several time past year mostly economy...</td>\n",
       "    </tr>\n",
       "    <tr>\n",
       "      <th>3692</th>\n",
       "      <td>LHR to VIE BA 704 23 June 2014. The meal servi...</td>\n",
       "      <td>3</td>\n",
       "      <td>2014-06-25</td>\n",
       "      <td>United Kingdom</td>\n",
       "      <td>False</td>\n",
       "      <td>lhr vie ba june meal service euro traveller ap...</td>\n",
       "    </tr>\n",
       "    <tr>\n",
       "      <th>3693</th>\n",
       "      <td>Flew from LHR to Hong Kong April 13th 2014 BA ...</td>\n",
       "      <td>3</td>\n",
       "      <td>2014-06-25</td>\n",
       "      <td>United Kingdom</td>\n",
       "      <td>False</td>\n",
       "      <td>flew lhr hong kong april th ba flight took hou...</td>\n",
       "    </tr>\n",
       "    <tr>\n",
       "      <th>3694</th>\n",
       "      <td>Flight BA 202 Boston to Heathrow. Aircraft B74...</td>\n",
       "      <td>6</td>\n",
       "      <td>2014-06-23</td>\n",
       "      <td>United Kingdom</td>\n",
       "      <td>False</td>\n",
       "      <td>flight ba boston heathrow aircraft b version s...</td>\n",
       "    </tr>\n",
       "  </tbody>\n",
       "</table>\n",
       "<p>3695 rows × 6 columns</p>\n",
       "</div>"
      ],
      "text/plain": [
       "                                                reviews stars       date  \\\n",
       "0     ✅ Trip Verified | If you can’t fly First Class...     5 2024-07-19   \n",
       "1     Not Verified |   Singapore to Heathrow. Busine...     1 2024-07-16   \n",
       "2     Not Verified |   I reported my damaged/ruined ...     1 2024-07-15   \n",
       "3     Not Verified |   On March 1st, I flew from Ber...     1 2024-07-09   \n",
       "4     Not Verified | The WORST customer experience! ...     1 2024-07-05   \n",
       "...                                                 ...   ...        ...   \n",
       "3690  Having taken several domestic flights to Londo...     8 2014-06-25   \n",
       "3691  Have flown with BA several times over past few...    10 2014-06-25   \n",
       "3692  LHR to VIE BA 704 23 June 2014. The meal servi...     3 2014-06-25   \n",
       "3693  Flew from LHR to Hong Kong April 13th 2014 BA ...     3 2014-06-25   \n",
       "3694  Flight BA 202 Boston to Heathrow. Aircraft B74...     6 2014-06-23   \n",
       "\n",
       "             country  verified  \\\n",
       "0      United States      True   \n",
       "1        New Zealand     False   \n",
       "2     United Kingdom     False   \n",
       "3            Germany     False   \n",
       "4     United Kingdom     False   \n",
       "...              ...       ...   \n",
       "3690  United Kingdom     False   \n",
       "3691  United Kingdom     False   \n",
       "3692  United Kingdom     False   \n",
       "3693  United Kingdom     False   \n",
       "3694  United Kingdom     False   \n",
       "\n",
       "                                                 corpus  \n",
       "0     fly first class fly british airway uncomfortab...  \n",
       "1     verified singapore heathrow business class pre...  \n",
       "2     verified reported damaged ruined suitcase week...  \n",
       "3     verified march st flew berlin paulo ba encount...  \n",
       "4     verified worst customer experience british air...  \n",
       "...                                                 ...  \n",
       "3690  taken several domestic flight london heathrow ...  \n",
       "3691  flown ba several time past year mostly economy...  \n",
       "3692  lhr vie ba june meal service euro traveller ap...  \n",
       "3693  flew lhr hong kong april th ba flight took hou...  \n",
       "3694  flight ba boston heathrow aircraft b version s...  \n",
       "\n",
       "[3695 rows x 6 columns]"
      ]
     },
     "execution_count": 26,
     "metadata": {},
     "output_type": "execute_result"
    }
   ],
   "source": [
    "df.reset_index(drop=True)"
   ]
  },
  {
   "cell_type": "code",
   "execution_count": 27,
   "id": "dfec9d35",
   "metadata": {},
   "outputs": [],
   "source": [
    "df.to_csv(cwd + \"/cleaned-BA-reviews.csv\")"
   ]
  },
  {
   "cell_type": "code",
   "execution_count": null,
   "id": "c8c52236",
   "metadata": {},
   "outputs": [],
   "source": []
  },
  {
   "cell_type": "code",
   "execution_count": null,
   "id": "0476ce6f",
   "metadata": {},
   "outputs": [],
   "source": []
  },
  {
   "cell_type": "code",
   "execution_count": null,
   "id": "d4c6f943",
   "metadata": {},
   "outputs": [],
   "source": []
  }
 ],
 "metadata": {
  "kernelspec": {
   "display_name": "Python 3 (ipykernel)",
   "language": "python",
   "name": "python3"
  },
  "language_info": {
   "codemirror_mode": {
    "name": "ipython",
    "version": 3
   },
   "file_extension": ".py",
   "mimetype": "text/x-python",
   "name": "python",
   "nbconvert_exporter": "python",
   "pygments_lexer": "ipython3",
   "version": "3.9.13"
  }
 },
 "nbformat": 4,
 "nbformat_minor": 5
}
