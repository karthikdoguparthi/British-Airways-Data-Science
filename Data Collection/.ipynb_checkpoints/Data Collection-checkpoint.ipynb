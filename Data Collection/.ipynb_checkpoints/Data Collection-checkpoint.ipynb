{
 "cells": [
  {
   "cell_type": "code",
   "execution_count": 1,
   "id": "dd883574-9173-4d33-a4bf-4d37de5d9c1b",
   "metadata": {
    "tags": []
   },
   "outputs": [],
   "source": [
    "import requests\n",
    "from bs4 import BeautifulSoup\n",
    "import pandas as pd"
   ]
  },
  {
   "cell_type": "code",
   "execution_count": 2,
   "id": "8652b3c2-174a-4ded-970c-2812269eb975",
   "metadata": {
    "tags": []
   },
   "outputs": [],
   "source": [
    "reviews=[]\n",
    "stars=[]\n",
    "date=[]\n",
    "country=[]"
   ]
  },
  {
   "cell_type": "code",
   "execution_count": 4,
   "id": "cf90b006-ab26-4bca-88ee-8b32f1db9b1e",
   "metadata": {},
   "outputs": [
    {
     "name": "stdout",
     "output_type": "stream",
     "text": [
      "Error on page 33\n",
      "Error on page 34\n",
      "Error on page 34\n",
      "Error on page 37\n",
      "Error on page 37\n"
     ]
    }
   ],
   "source": [
    "for i in range(1, 38):\n",
    "    page = requests.get(f\"https://www.airlinequality.com/airline-reviews/british-airways/page/{i}/?sortby=post_date%3ADesc&pagesize=100\")\n",
    "    \n",
    "    soup = BeautifulSoup(page.content, \"html\")\n",
    "    \n",
    "    for item in soup.find_all(\"div\", class_=\"text_content\"):\n",
    "        reviews.append(item.text)\n",
    "    \n",
    "    for item in soup.find_all(\"div\", class_ = \"rating-10\"):\n",
    "        try:\n",
    "            stars.append(item.span.text)\n",
    "        except:\n",
    "            print(f\"Error on page {i}\")\n",
    "            stars.append(\"None\")\n",
    "            \n",
    "    #date\n",
    "    for item in soup.find_all(\"time\"):\n",
    "        date.append(item.text)\n",
    "        \n",
    "    #country\n",
    "    for item in soup.find_all(\"h3\"):\n",
    "        country.append(item.span.next_sibling.text.strip(\" ()\"))"
   ]
  },
  {
   "cell_type": "code",
   "execution_count": 6,
   "id": "e309bd64-8beb-433b-ab3f-a32d472757b2",
   "metadata": {},
   "outputs": [
    {
     "data": {
      "text/plain": [
       "3700"
      ]
     },
     "execution_count": 6,
     "metadata": {},
     "output_type": "execute_result"
    }
   ],
   "source": [
    "len(reviews)"
   ]
  },
  {
   "cell_type": "code",
   "execution_count": 7,
   "id": "fc9ab0c2-1678-4c54-8bba-ef8780d2ed6a",
   "metadata": {},
   "outputs": [
    {
     "data": {
      "text/plain": [
       "3700"
      ]
     },
     "execution_count": 7,
     "metadata": {},
     "output_type": "execute_result"
    }
   ],
   "source": [
    "len(country)"
   ]
  },
  {
   "cell_type": "code",
   "execution_count": 8,
   "id": "c411d7bc-cccd-4a18-b7f8-f5011ee1e26a",
   "metadata": {},
   "outputs": [],
   "source": [
    "stars=stars[:3700]"
   ]
  },
  {
   "cell_type": "code",
   "execution_count": 9,
   "id": "f18a1009-f617-4854-842c-3cdc1a62bf58",
   "metadata": {},
   "outputs": [],
   "source": [
    "df = pd.DataFrame({\"reviews\":reviews,\"stars\": stars, \"date\":date, \"country\": country})"
   ]
  },
  {
   "cell_type": "code",
   "execution_count": 10,
   "id": "9d4d1b4a-bf82-4b9a-b2b5-2756063c109d",
   "metadata": {},
   "outputs": [
    {
     "data": {
      "text/plain": [
       "<bound method NDFrame.head of                                                 reviews  \\\n",
       "0     ✅ Trip Verified | If you can’t fly First Class...   \n",
       "1     Not Verified |   Singapore to Heathrow. Busine...   \n",
       "2     Not Verified |   I reported my damaged/ruined ...   \n",
       "3     Not Verified |   On March 1st, I flew from Ber...   \n",
       "4     Not Verified | The WORST customer experience! ...   \n",
       "...                                                 ...   \n",
       "3695  Having taken several domestic flights to Londo...   \n",
       "3696  Have flown with BA several times over past few...   \n",
       "3697  LHR to VIE BA 704 23 June 2014. The meal servi...   \n",
       "3698  Flew from LHR to Hong Kong April 13th 2014 BA ...   \n",
       "3699  I flew from Edinburgh to Heathrow and then on ...   \n",
       "\n",
       "                              stars            date         country  \n",
       "0     \\n\\t\\t\\t\\t\\t\\t\\t\\t\\t\\t\\t\\t\\t5  19th July 2024   United States  \n",
       "1                                 1  16th July 2024     New Zealand  \n",
       "2                                 1  15th July 2024  United Kingdom  \n",
       "3                                 1   9th July 2024         Germany  \n",
       "4                                 1   5th July 2024  United Kingdom  \n",
       "...                             ...             ...             ...  \n",
       "3695                              3  25th June 2014  United Kingdom  \n",
       "3696                              8  25th June 2014  United Kingdom  \n",
       "3697                             10  25th June 2014  United Kingdom  \n",
       "3698                              3  25th June 2014  United Kingdom  \n",
       "3699                              6  23rd June 2014  United Kingdom  \n",
       "\n",
       "[3700 rows x 4 columns]>"
      ]
     },
     "execution_count": 10,
     "metadata": {},
     "output_type": "execute_result"
    }
   ],
   "source": [
    "df.head"
   ]
  },
  {
   "cell_type": "code",
   "execution_count": 11,
   "id": "d62d925c-c66a-4087-9905-512f7107b69d",
   "metadata": {},
   "outputs": [
    {
     "data": {
      "text/plain": [
       "(3700, 4)"
      ]
     },
     "execution_count": 11,
     "metadata": {},
     "output_type": "execute_result"
    }
   ],
   "source": [
    "df.shape"
   ]
  },
  {
   "cell_type": "code",
   "execution_count": 17,
   "id": "09999aaa-1fba-4cb5-b7d1-a45bf555525e",
   "metadata": {},
   "outputs": [],
   "source": [
    "import os\n",
    "\n",
    "cwd = os.getcwd()\n",
    "df.to_csv(cwd+ \"/BA_reviews.csv\")"
   ]
  },
  {
   "cell_type": "code",
   "execution_count": null,
   "id": "aed7d6b6-53f9-4a76-87ae-d1f92265614c",
   "metadata": {},
   "outputs": [],
   "source": []
  }
 ],
 "metadata": {
  "kernelspec": {
   "display_name": "Python 3 (ipykernel)",
   "language": "python",
   "name": "python3"
  },
  "language_info": {
   "codemirror_mode": {
    "name": "ipython",
    "version": 3
   },
   "file_extension": ".py",
   "mimetype": "text/x-python",
   "name": "python",
   "nbconvert_exporter": "python",
   "pygments_lexer": "ipython3",
   "version": "3.9.13"
  }
 },
 "nbformat": 4,
 "nbformat_minor": 5
}
